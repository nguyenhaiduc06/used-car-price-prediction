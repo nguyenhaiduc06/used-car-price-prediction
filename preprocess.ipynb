{
 "cells": [
  {
   "cell_type": "code",
   "execution_count": 119,
   "metadata": {},
   "outputs": [],
   "source": [
    "import pandas as pd\n",
    "from sklearn.preprocessing import LabelEncoder, StandardScaler\n",
    "import matplotlib.pyplot as plt\n",
    "import seaborn as sns\n"
   ]
  },
  {
   "cell_type": "code",
   "execution_count": 120,
   "metadata": {},
   "outputs": [],
   "source": [
    "cars = pd.read_csv('./data/processed_cars.csv', index_col=0)"
   ]
  },
  {
   "cell_type": "code",
   "execution_count": 121,
   "metadata": {},
   "outputs": [],
   "source": [
    "quantity_by_fuel = cars.groupby('fuels').agg('count').year.reset_index()\n",
    "quantity_by_origin = cars.groupby('origin').agg('count').year.reset_index()\n",
    "quantity_by_transmission = cars.groupby('transmission').agg('count').year.reset_index()\n",
    "quantity_by_type = cars.groupby('type').agg('count').year.reset_index()\n",
    "quantity_by_year = cars.groupby('year').agg('count').transmission.reset_index()"
   ]
  },
  {
   "cell_type": "code",
   "execution_count": 122,
   "metadata": {},
   "outputs": [
    {
     "data": {
      "text/html": [
       "<div>\n",
       "<style scoped>\n",
       "    .dataframe tbody tr th:only-of-type {\n",
       "        vertical-align: middle;\n",
       "    }\n",
       "\n",
       "    .dataframe tbody tr th {\n",
       "        vertical-align: top;\n",
       "    }\n",
       "\n",
       "    .dataframe thead th {\n",
       "        text-align: right;\n",
       "    }\n",
       "</style>\n",
       "<table border=\"1\" class=\"dataframe\">\n",
       "  <thead>\n",
       "    <tr style=\"text-align: right;\">\n",
       "      <th></th>\n",
       "      <th>fuels</th>\n",
       "      <th>year</th>\n",
       "    </tr>\n",
       "  </thead>\n",
       "  <tbody>\n",
       "    <tr>\n",
       "      <th>0</th>\n",
       "      <td>diesel</td>\n",
       "      <td>4047</td>\n",
       "    </tr>\n",
       "    <tr>\n",
       "      <th>1</th>\n",
       "      <td>electric</td>\n",
       "      <td>12</td>\n",
       "    </tr>\n",
       "    <tr>\n",
       "      <th>2</th>\n",
       "      <td>gasoline</td>\n",
       "      <td>24710</td>\n",
       "    </tr>\n",
       "    <tr>\n",
       "      <th>3</th>\n",
       "      <td>hybrid</td>\n",
       "      <td>188</td>\n",
       "    </tr>\n",
       "  </tbody>\n",
       "</table>\n",
       "</div>"
      ],
      "text/plain": [
       "      fuels   year\n",
       "0    diesel   4047\n",
       "1  electric     12\n",
       "2  gasoline  24710\n",
       "3    hybrid    188"
      ]
     },
     "execution_count": 122,
     "metadata": {},
     "output_type": "execute_result"
    }
   ],
   "source": []
  },
  {
   "attachments": {},
   "cell_type": "markdown",
   "metadata": {},
   "source": [
    "### Drop columns -> Data integration -> Data cleaning -> Data transformation"
   ]
  },
  {
   "attachments": {},
   "cell_type": "markdown",
   "metadata": {},
   "source": [
    "### Data integration"
   ]
  },
  {
   "attachments": {},
   "cell_type": "markdown",
   "metadata": {},
   "source": [
    "### Data cleaning (remove missing value: None, NA; fill missing value using source url)"
   ]
  },
  {
   "cell_type": "code",
   "execution_count": 109,
   "metadata": {},
   "outputs": [
    {
     "data": {
      "text/plain": [
       "Innova          1345\n",
       "Morning         1326\n",
       "Vios            1304\n",
       "Ranger          1029\n",
       "i10              919\n",
       "                ... \n",
       "Excelle            1\n",
       "LaCrosse           1\n",
       "Mulsanne           1\n",
       "Continental        1\n",
       "Fengxing CM7       1\n",
       "Name: model, Length: 417, dtype: int64"
      ]
     },
     "execution_count": 109,
     "metadata": {},
     "output_type": "execute_result"
    }
   ],
   "source": [
    "cars.model.value_counts()"
   ]
  },
  {
   "cell_type": "code",
   "execution_count": 110,
   "metadata": {},
   "outputs": [
    {
     "data": {
      "text/plain": [
       "sedan          10548\n",
       "suv             8177\n",
       "hatchback       4000\n",
       "crossover       2841\n",
       "pickup          1735\n",
       "van             1445\n",
       "coupe            119\n",
       "convertible       86\n",
       "wagon              6\n",
       "Name: type, dtype: int64"
      ]
     },
     "execution_count": 110,
     "metadata": {},
     "output_type": "execute_result"
    }
   ],
   "source": [
    "cars.type.value_counts()"
   ]
  },
  {
   "attachments": {},
   "cell_type": "markdown",
   "metadata": {},
   "source": [
    "https://www.kaggle.com/code/vbmokin/used-cars-price-prediction-by-15-models\n",
    "https://towardsdatascience.com/used-car-price-prediction-using-machine-learning-e3be02d977b2"
   ]
  },
  {
   "cell_type": "code",
   "execution_count": 111,
   "metadata": {},
   "outputs": [
    {
     "data": {
      "text/plain": [
       "0.0         16700\n",
       "50000.0       436\n",
       "60000.0       425\n",
       "80000.0       378\n",
       "30000.0       348\n",
       "            ...  \n",
       "67262.0         1\n",
       "118268.0        1\n",
       "96218.0         1\n",
       "82668.0         1\n",
       "41618.0         1\n",
       "Name: km_driven, Length: 1522, dtype: int64"
      ]
     },
     "execution_count": 111,
     "metadata": {},
     "output_type": "execute_result"
    }
   ],
   "source": [
    "cars.km_driven.value_counts()\n",
    "# drop outliers: km_driven = 0, 1"
   ]
  },
  {
   "cell_type": "code",
   "execution_count": 112,
   "metadata": {},
   "outputs": [
    {
     "data": {
      "text/plain": [
       "Trắng        8577\n",
       "Đen          5530\n",
       "Bạc          4050\n",
       "Đỏ           3424\n",
       "Xanh         2389\n",
       "Xám          1222\n",
       "Vàng          903\n",
       "Nâu           728\n",
       "Ghi           712\n",
       "Cát           665\n",
       "Cam           359\n",
       "Đồng          181\n",
       "Hồng           76\n",
       "Kem            49\n",
       "Nhiều màu      42\n",
       "Màu khác       27\n",
       "Tím            23\n",
       "Name: external_color, dtype: int64"
      ]
     },
     "execution_count": 112,
     "metadata": {},
     "output_type": "execute_result"
    }
   ],
   "source": [
    "cars.external_color.value_counts()\n",
    "# drop none, khác"
   ]
  },
  {
   "cell_type": "code",
   "execution_count": 113,
   "metadata": {},
   "outputs": [
    {
     "data": {
      "text/plain": [
       "5     15761\n",
       "4     12874\n",
       "2       215\n",
       "3        77\n",
       "6        20\n",
       "45        2\n",
       "54        2\n",
       "7         1\n",
       "50        1\n",
       "1         1\n",
       "56        1\n",
       "40        1\n",
       "8         1\n",
       "Name: seats, dtype: int64"
      ]
     },
     "execution_count": 113,
     "metadata": {},
     "output_type": "execute_result"
    }
   ],
   "source": [
    "cars.seats.value_counts()\n",
    "# drop none, 0 or use source url to lookup data"
   ]
  },
  {
   "cell_type": "code",
   "execution_count": 114,
   "metadata": {},
   "outputs": [
    {
     "data": {
      "text/plain": [
       "gasoline    24710\n",
       "diesel       4047\n",
       "hybrid        188\n",
       "electric       12\n",
       "Name: fuels, dtype: int64"
      ]
     },
     "execution_count": 114,
     "metadata": {},
     "output_type": "execute_result"
    }
   ],
   "source": [
    "cars.fuels.value_counts()\n",
    "# drop NONE, 0, None or use source url to lookup data"
   ]
  },
  {
   "cell_type": "code",
   "execution_count": 115,
   "metadata": {},
   "outputs": [
    {
     "data": {
      "text/plain": [
       "automatic    20783\n",
       "manual        8174\n",
       "Name: transmission, dtype: int64"
      ]
     },
     "execution_count": 115,
     "metadata": {},
     "output_type": "execute_result"
    }
   ],
   "source": [
    "cars.transmission.value_counts()\n",
    "# drop None, 0 or use source url to lookup date"
   ]
  },
  {
   "cell_type": "code",
   "execution_count": 116,
   "metadata": {},
   "outputs": [
    {
     "data": {
      "text/plain": [
       "630000000     181\n",
       "550000000     165\n",
       "450000000     160\n",
       "495000000     146\n",
       "395000000     145\n",
       "             ... \n",
       "3339000000      1\n",
       "892000000       1\n",
       "673000000       1\n",
       "751000000       1\n",
       "2840000000      1\n",
       "Name: price, Length: 2087, dtype: int64"
      ]
     },
     "execution_count": 116,
     "metadata": {},
     "output_type": "execute_result"
    }
   ],
   "source": [
    "cars.price.value_counts()\n",
    "# drop outliers"
   ]
  },
  {
   "cell_type": "code",
   "execution_count": 117,
   "metadata": {},
   "outputs": [
    {
     "data": {
      "text/plain": [
       "2021    6760\n",
       "2019    2333\n",
       "2018    2112\n",
       "2016    2100\n",
       "2017    1762\n",
       "2022    1761\n",
       "2015    1563\n",
       "2020    1512\n",
       "2009    1186\n",
       "2010    1109\n",
       "2014    1099\n",
       "2011     983\n",
       "2008     864\n",
       "2013     658\n",
       "2012     635\n",
       "2007     622\n",
       "2005     360\n",
       "2004     349\n",
       "2003     290\n",
       "2006     228\n",
       "2002     157\n",
       "2001     128\n",
       "2000     103\n",
       "1995      37\n",
       "1997      37\n",
       "1993      31\n",
       "1999      31\n",
       "1992      29\n",
       "1998      27\n",
       "1996      27\n",
       "1994      24\n",
       "1991      22\n",
       "1990      18\n",
       "Name: year, dtype: int64"
      ]
     },
     "execution_count": 117,
     "metadata": {},
     "output_type": "execute_result"
    }
   ],
   "source": [
    "cars.year.value_counts()\n",
    "# drop None"
   ]
  },
  {
   "attachments": {},
   "cell_type": "markdown",
   "metadata": {},
   "source": [
    "### Data transformation (from categorical to numerical)"
   ]
  },
  {
   "attachments": {},
   "cell_type": "markdown",
   "metadata": {},
   "source": [
    "### Drop columns"
   ]
  },
  {
   "cell_type": "code",
   "execution_count": 118,
   "metadata": {},
   "outputs": [
    {
     "data": {
      "text/html": [
       "<div>\n",
       "<style scoped>\n",
       "    .dataframe tbody tr th:only-of-type {\n",
       "        vertical-align: middle;\n",
       "    }\n",
       "\n",
       "    .dataframe tbody tr th {\n",
       "        vertical-align: top;\n",
       "    }\n",
       "\n",
       "    .dataframe thead th {\n",
       "        text-align: right;\n",
       "    }\n",
       "</style>\n",
       "<table border=\"1\" class=\"dataframe\">\n",
       "  <thead>\n",
       "    <tr style=\"text-align: right;\">\n",
       "      <th></th>\n",
       "      <th>brand</th>\n",
       "      <th>type</th>\n",
       "      <th>origin</th>\n",
       "      <th>km_driven</th>\n",
       "      <th>external_color</th>\n",
       "      <th>seats</th>\n",
       "      <th>engine_capacity</th>\n",
       "      <th>fuels</th>\n",
       "      <th>transmission</th>\n",
       "      <th>wheel_drive</th>\n",
       "      <th>price</th>\n",
       "      <th>year</th>\n",
       "      <th>model</th>\n",
       "      <th>internal_color</th>\n",
       "    </tr>\n",
       "  </thead>\n",
       "  <tbody>\n",
       "    <tr>\n",
       "      <th>0.0</th>\n",
       "      <td>acura</td>\n",
       "      <td>crossover</td>\n",
       "      <td>imported</td>\n",
       "      <td>0.0</td>\n",
       "      <td>Xanh</td>\n",
       "      <td>5</td>\n",
       "      <td>3.7</td>\n",
       "      <td>gasoline</td>\n",
       "      <td>automatic</td>\n",
       "      <td>AWD</td>\n",
       "      <td>1280000000</td>\n",
       "      <td>2010</td>\n",
       "      <td>ZDX</td>\n",
       "      <td>Đen</td>\n",
       "    </tr>\n",
       "    <tr>\n",
       "      <th>1.0</th>\n",
       "      <td>acura</td>\n",
       "      <td>suv</td>\n",
       "      <td>imported</td>\n",
       "      <td>0.0</td>\n",
       "      <td>Đen</td>\n",
       "      <td>5</td>\n",
       "      <td>3.7</td>\n",
       "      <td>gasoline</td>\n",
       "      <td>automatic</td>\n",
       "      <td>AWD</td>\n",
       "      <td>600000000</td>\n",
       "      <td>2008</td>\n",
       "      <td>MDX</td>\n",
       "      <td>Ghi</td>\n",
       "    </tr>\n",
       "    <tr>\n",
       "      <th>2.0</th>\n",
       "      <td>acura</td>\n",
       "      <td>crossover</td>\n",
       "      <td>imported</td>\n",
       "      <td>110000.0</td>\n",
       "      <td>Trắng</td>\n",
       "      <td>5</td>\n",
       "      <td>3.7</td>\n",
       "      <td>gasoline</td>\n",
       "      <td>automatic</td>\n",
       "      <td>AWD</td>\n",
       "      <td>960000000</td>\n",
       "      <td>2010</td>\n",
       "      <td>ZDX</td>\n",
       "      <td>Nâu</td>\n",
       "    </tr>\n",
       "    <tr>\n",
       "      <th>3.0</th>\n",
       "      <td>acura</td>\n",
       "      <td>suv</td>\n",
       "      <td>imported</td>\n",
       "      <td>0.0</td>\n",
       "      <td>Đen</td>\n",
       "      <td>5</td>\n",
       "      <td>3.7</td>\n",
       "      <td>gasoline</td>\n",
       "      <td>automatic</td>\n",
       "      <td>AWD</td>\n",
       "      <td>650000000</td>\n",
       "      <td>2007</td>\n",
       "      <td>MDX</td>\n",
       "      <td>Đen</td>\n",
       "    </tr>\n",
       "    <tr>\n",
       "      <th>4.0</th>\n",
       "      <td>acura</td>\n",
       "      <td>suv</td>\n",
       "      <td>imported</td>\n",
       "      <td>10000.0</td>\n",
       "      <td>Đen</td>\n",
       "      <td>5</td>\n",
       "      <td>3.7</td>\n",
       "      <td>gasoline</td>\n",
       "      <td>automatic</td>\n",
       "      <td>AWD</td>\n",
       "      <td>590000000</td>\n",
       "      <td>2009</td>\n",
       "      <td>MDX</td>\n",
       "      <td>Đen</td>\n",
       "    </tr>\n",
       "    <tr>\n",
       "      <th>...</th>\n",
       "      <td>...</td>\n",
       "      <td>...</td>\n",
       "      <td>...</td>\n",
       "      <td>...</td>\n",
       "      <td>...</td>\n",
       "      <td>...</td>\n",
       "      <td>...</td>\n",
       "      <td>...</td>\n",
       "      <td>...</td>\n",
       "      <td>...</td>\n",
       "      <td>...</td>\n",
       "      <td>...</td>\n",
       "      <td>...</td>\n",
       "      <td>...</td>\n",
       "    </tr>\n",
       "    <tr>\n",
       "      <th>28952.0</th>\n",
       "      <td>volvo</td>\n",
       "      <td>suv</td>\n",
       "      <td>imported</td>\n",
       "      <td>0.0</td>\n",
       "      <td>Xám</td>\n",
       "      <td>5</td>\n",
       "      <td>2.0</td>\n",
       "      <td>gasoline</td>\n",
       "      <td>automatic</td>\n",
       "      <td>AWD</td>\n",
       "      <td>1580000000</td>\n",
       "      <td>2016</td>\n",
       "      <td>XC60</td>\n",
       "      <td>-</td>\n",
       "    </tr>\n",
       "    <tr>\n",
       "      <th>28953.0</th>\n",
       "      <td>volvo</td>\n",
       "      <td>suv</td>\n",
       "      <td>imported</td>\n",
       "      <td>6000.0</td>\n",
       "      <td>Trắng</td>\n",
       "      <td>5</td>\n",
       "      <td>2.0</td>\n",
       "      <td>gasoline</td>\n",
       "      <td>automatic</td>\n",
       "      <td>AWD</td>\n",
       "      <td>3250000000</td>\n",
       "      <td>2017</td>\n",
       "      <td>XC90</td>\n",
       "      <td>Ghi</td>\n",
       "    </tr>\n",
       "    <tr>\n",
       "      <th>28954.0</th>\n",
       "      <td>zotye</td>\n",
       "      <td>suv</td>\n",
       "      <td>imported</td>\n",
       "      <td>100000.0</td>\n",
       "      <td>Trắng</td>\n",
       "      <td>5</td>\n",
       "      <td>2.0</td>\n",
       "      <td>gasoline</td>\n",
       "      <td>automatic</td>\n",
       "      <td>FWD</td>\n",
       "      <td>500000000</td>\n",
       "      <td>2019</td>\n",
       "      <td>Z8</td>\n",
       "      <td>Nâu</td>\n",
       "    </tr>\n",
       "    <tr>\n",
       "      <th>28955.0</th>\n",
       "      <td>zotye</td>\n",
       "      <td>suv</td>\n",
       "      <td>imported</td>\n",
       "      <td>38000.0</td>\n",
       "      <td>Đen</td>\n",
       "      <td>5</td>\n",
       "      <td>2.0</td>\n",
       "      <td>gasoline</td>\n",
       "      <td>automatic</td>\n",
       "      <td>FWD</td>\n",
       "      <td>495000000</td>\n",
       "      <td>2019</td>\n",
       "      <td>Z8</td>\n",
       "      <td>Nâu</td>\n",
       "    </tr>\n",
       "    <tr>\n",
       "      <th>28956.0</th>\n",
       "      <td>zotye</td>\n",
       "      <td>suv</td>\n",
       "      <td>imported</td>\n",
       "      <td>45000.0</td>\n",
       "      <td>Đen</td>\n",
       "      <td>5</td>\n",
       "      <td>2.0</td>\n",
       "      <td>gasoline</td>\n",
       "      <td>automatic</td>\n",
       "      <td>FWD</td>\n",
       "      <td>465000000</td>\n",
       "      <td>2018</td>\n",
       "      <td>Z8</td>\n",
       "      <td>Kem</td>\n",
       "    </tr>\n",
       "  </tbody>\n",
       "</table>\n",
       "<p>28957 rows × 14 columns</p>\n",
       "</div>"
      ],
      "text/plain": [
       "         brand       type    origin  km_driven external_color  seats  \\\n",
       "0.0      acura  crossover  imported        0.0           Xanh      5   \n",
       "1.0      acura        suv  imported        0.0            Đen      5   \n",
       "2.0      acura  crossover  imported   110000.0          Trắng      5   \n",
       "3.0      acura        suv  imported        0.0            Đen      5   \n",
       "4.0      acura        suv  imported    10000.0            Đen      5   \n",
       "...        ...        ...       ...        ...            ...    ...   \n",
       "28952.0  volvo        suv  imported        0.0            Xám      5   \n",
       "28953.0  volvo        suv  imported     6000.0          Trắng      5   \n",
       "28954.0  zotye        suv  imported   100000.0          Trắng      5   \n",
       "28955.0  zotye        suv  imported    38000.0            Đen      5   \n",
       "28956.0  zotye        suv  imported    45000.0            Đen      5   \n",
       "\n",
       "         engine_capacity     fuels transmission wheel_drive       price  year  \\\n",
       "0.0                  3.7  gasoline    automatic         AWD  1280000000  2010   \n",
       "1.0                  3.7  gasoline    automatic         AWD   600000000  2008   \n",
       "2.0                  3.7  gasoline    automatic         AWD   960000000  2010   \n",
       "3.0                  3.7  gasoline    automatic         AWD   650000000  2007   \n",
       "4.0                  3.7  gasoline    automatic         AWD   590000000  2009   \n",
       "...                  ...       ...          ...         ...         ...   ...   \n",
       "28952.0              2.0  gasoline    automatic         AWD  1580000000  2016   \n",
       "28953.0              2.0  gasoline    automatic         AWD  3250000000  2017   \n",
       "28954.0              2.0  gasoline    automatic         FWD   500000000  2019   \n",
       "28955.0              2.0  gasoline    automatic         FWD   495000000  2019   \n",
       "28956.0              2.0  gasoline    automatic         FWD   465000000  2018   \n",
       "\n",
       "        model internal_color  \n",
       "0.0       ZDX            Đen  \n",
       "1.0       MDX            Ghi  \n",
       "2.0       ZDX            Nâu  \n",
       "3.0       MDX            Đen  \n",
       "4.0       MDX            Đen  \n",
       "...       ...            ...  \n",
       "28952.0  XC60              -  \n",
       "28953.0  XC90            Ghi  \n",
       "28954.0    Z8            Nâu  \n",
       "28955.0    Z8            Nâu  \n",
       "28956.0    Z8            Kem  \n",
       "\n",
       "[28957 rows x 14 columns]"
      ]
     },
     "execution_count": 118,
     "metadata": {},
     "output_type": "execute_result"
    }
   ],
   "source": [
    "drop_columns = ['name', 'source_url']\n",
    "cars.drop(columns=drop_columns)"
   ]
  }
 ],
 "metadata": {
  "kernelspec": {
   "display_name": "sandbox",
   "language": "python",
   "name": "python3"
  },
  "language_info": {
   "codemirror_mode": {
    "name": "ipython",
    "version": 3
   },
   "file_extension": ".py",
   "mimetype": "text/x-python",
   "name": "python",
   "nbconvert_exporter": "python",
   "pygments_lexer": "ipython3",
   "version": "3.11.0"
  },
  "orig_nbformat": 4
 },
 "nbformat": 4,
 "nbformat_minor": 2
}
