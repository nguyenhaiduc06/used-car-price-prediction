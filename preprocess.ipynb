{
 "cells": [
  {
   "cell_type": "code",
   "execution_count": 2,
   "metadata": {},
   "outputs": [],
   "source": [
    "import pandas as pd\n",
    "from sklearn.preprocessing import LabelEncoder, StandardScaler\n"
   ]
  },
  {
   "cell_type": "code",
   "execution_count": 5,
   "metadata": {},
   "outputs": [],
   "source": [
    "cars = pd.read_csv(\"./data/xe_tot/cars.csv\", index_col=0)"
   ]
  },
  {
   "attachments": {},
   "cell_type": "markdown",
   "metadata": {},
   "source": [
    "### Drop columns -> Data integration -> Data cleaning -> Data transformation"
   ]
  },
  {
   "attachments": {},
   "cell_type": "markdown",
   "metadata": {},
   "source": [
    "### Drop columns"
   ]
  },
  {
   "cell_type": "code",
   "execution_count": 6,
   "metadata": {},
   "outputs": [
    {
     "data": {
      "text/html": [
       "<div>\n",
       "<style scoped>\n",
       "    .dataframe tbody tr th:only-of-type {\n",
       "        vertical-align: middle;\n",
       "    }\n",
       "\n",
       "    .dataframe tbody tr th {\n",
       "        vertical-align: top;\n",
       "    }\n",
       "\n",
       "    .dataframe thead th {\n",
       "        text-align: right;\n",
       "    }\n",
       "</style>\n",
       "<table border=\"1\" class=\"dataframe\">\n",
       "  <thead>\n",
       "    <tr style=\"text-align: right;\">\n",
       "      <th></th>\n",
       "      <th>brand</th>\n",
       "      <th>model</th>\n",
       "      <th>type</th>\n",
       "      <th>origin</th>\n",
       "      <th>km_driven</th>\n",
       "      <th>external_color</th>\n",
       "      <th>seats</th>\n",
       "      <th>fuels</th>\n",
       "      <th>transmission</th>\n",
       "      <th>price</th>\n",
       "      <th>year</th>\n",
       "    </tr>\n",
       "  </thead>\n",
       "  <tbody>\n",
       "    <tr>\n",
       "      <th>0</th>\n",
       "      <td>Kia</td>\n",
       "      <td>Sportage</td>\n",
       "      <td>NONE</td>\n",
       "      <td>imported</td>\n",
       "      <td>1000</td>\n",
       "      <td>Trắng</td>\n",
       "      <td>5</td>\n",
       "      <td>gasoline</td>\n",
       "      <td>automatic</td>\n",
       "      <td>299000000</td>\n",
       "      <td>2022</td>\n",
       "    </tr>\n",
       "    <tr>\n",
       "      <th>1</th>\n",
       "      <td>Ford</td>\n",
       "      <td>Transit</td>\n",
       "      <td>NONE</td>\n",
       "      <td>imported</td>\n",
       "      <td>0</td>\n",
       "      <td>Khác</td>\n",
       "      <td>16</td>\n",
       "      <td>diesel</td>\n",
       "      <td>manual</td>\n",
       "      <td>819000000</td>\n",
       "      <td>2023</td>\n",
       "    </tr>\n",
       "    <tr>\n",
       "      <th>2</th>\n",
       "      <td>Ford</td>\n",
       "      <td>Transit</td>\n",
       "      <td>NONE</td>\n",
       "      <td>imported</td>\n",
       "      <td>0</td>\n",
       "      <td>Khác</td>\n",
       "      <td>16</td>\n",
       "      <td>diesel</td>\n",
       "      <td>manual</td>\n",
       "      <td>819000000</td>\n",
       "      <td>2023</td>\n",
       "    </tr>\n",
       "    <tr>\n",
       "      <th>3</th>\n",
       "      <td>Ford</td>\n",
       "      <td>Transit</td>\n",
       "      <td>NONE</td>\n",
       "      <td>imported</td>\n",
       "      <td>0</td>\n",
       "      <td>Khác</td>\n",
       "      <td>16</td>\n",
       "      <td>diesel</td>\n",
       "      <td>manual</td>\n",
       "      <td>819000000</td>\n",
       "      <td>2023</td>\n",
       "    </tr>\n",
       "    <tr>\n",
       "      <th>4</th>\n",
       "      <td>Ford</td>\n",
       "      <td>Transit</td>\n",
       "      <td>NONE</td>\n",
       "      <td>imported</td>\n",
       "      <td>0</td>\n",
       "      <td>Khác</td>\n",
       "      <td>16</td>\n",
       "      <td>diesel</td>\n",
       "      <td>manual</td>\n",
       "      <td>819000000</td>\n",
       "      <td>2023</td>\n",
       "    </tr>\n",
       "    <tr>\n",
       "      <th>...</th>\n",
       "      <td>...</td>\n",
       "      <td>...</td>\n",
       "      <td>...</td>\n",
       "      <td>...</td>\n",
       "      <td>...</td>\n",
       "      <td>...</td>\n",
       "      <td>...</td>\n",
       "      <td>...</td>\n",
       "      <td>...</td>\n",
       "      <td>...</td>\n",
       "      <td>...</td>\n",
       "    </tr>\n",
       "    <tr>\n",
       "      <th>1465</th>\n",
       "      <td>Mazda</td>\n",
       "      <td>3</td>\n",
       "      <td>sedan</td>\n",
       "      <td>imported</td>\n",
       "      <td>0</td>\n",
       "      <td>Đỏ</td>\n",
       "      <td>5</td>\n",
       "      <td>gasoline</td>\n",
       "      <td>automatic</td>\n",
       "      <td>743000000</td>\n",
       "      <td>2022</td>\n",
       "    </tr>\n",
       "    <tr>\n",
       "      <th>1466</th>\n",
       "      <td>Chevrolet</td>\n",
       "      <td>Aveo</td>\n",
       "      <td>sedan</td>\n",
       "      <td>imported</td>\n",
       "      <td>93000</td>\n",
       "      <td>Trắng</td>\n",
       "      <td>4</td>\n",
       "      <td>gasoline</td>\n",
       "      <td>manual</td>\n",
       "      <td>238000000</td>\n",
       "      <td>2016</td>\n",
       "    </tr>\n",
       "    <tr>\n",
       "      <th>1467</th>\n",
       "      <td>Ford</td>\n",
       "      <td>Ranger</td>\n",
       "      <td>pickup</td>\n",
       "      <td>imported</td>\n",
       "      <td>0</td>\n",
       "      <td>Đen</td>\n",
       "      <td>4</td>\n",
       "      <td>diesel</td>\n",
       "      <td>automatic</td>\n",
       "      <td>756000000</td>\n",
       "      <td>2022</td>\n",
       "    </tr>\n",
       "    <tr>\n",
       "      <th>1468</th>\n",
       "      <td>Mitsubishi</td>\n",
       "      <td>Attrage</td>\n",
       "      <td>sedan</td>\n",
       "      <td>imported</td>\n",
       "      <td>37000</td>\n",
       "      <td>Trắng</td>\n",
       "      <td>4</td>\n",
       "      <td>gasoline</td>\n",
       "      <td>manual</td>\n",
       "      <td>349000000</td>\n",
       "      <td>2021</td>\n",
       "    </tr>\n",
       "    <tr>\n",
       "      <th>1469</th>\n",
       "      <td>Nissan</td>\n",
       "      <td>Almera</td>\n",
       "      <td>sedan</td>\n",
       "      <td>imported</td>\n",
       "      <td>0</td>\n",
       "      <td>Trắng</td>\n",
       "      <td>5</td>\n",
       "      <td>gasoline</td>\n",
       "      <td>automatic</td>\n",
       "      <td>595000000</td>\n",
       "      <td>2022</td>\n",
       "    </tr>\n",
       "  </tbody>\n",
       "</table>\n",
       "<p>1470 rows × 11 columns</p>\n",
       "</div>"
      ],
      "text/plain": [
       "           brand     model    type    origin km_driven external_color seats  \\\n",
       "0            Kia  Sportage    NONE  imported      1000          Trắng     5   \n",
       "1           Ford   Transit    NONE  imported         0           Khác    16   \n",
       "2           Ford   Transit    NONE  imported         0           Khác    16   \n",
       "3           Ford   Transit    NONE  imported         0           Khác    16   \n",
       "4           Ford   Transit    NONE  imported         0           Khác    16   \n",
       "...          ...       ...     ...       ...       ...            ...   ...   \n",
       "1465       Mazda         3   sedan  imported         0             Đỏ     5   \n",
       "1466   Chevrolet      Aveo   sedan  imported     93000          Trắng     4   \n",
       "1467        Ford    Ranger  pickup  imported         0            Đen     4   \n",
       "1468  Mitsubishi   Attrage   sedan  imported     37000          Trắng     4   \n",
       "1469      Nissan    Almera   sedan  imported         0          Trắng     5   \n",
       "\n",
       "         fuels transmission      price  year  \n",
       "0     gasoline    automatic  299000000  2022  \n",
       "1       diesel       manual  819000000  2023  \n",
       "2       diesel       manual  819000000  2023  \n",
       "3       diesel       manual  819000000  2023  \n",
       "4       diesel       manual  819000000  2023  \n",
       "...        ...          ...        ...   ...  \n",
       "1465  gasoline    automatic  743000000  2022  \n",
       "1466  gasoline       manual  238000000  2016  \n",
       "1467    diesel    automatic  756000000  2022  \n",
       "1468  gasoline       manual  349000000  2021  \n",
       "1469  gasoline    automatic  595000000  2022  \n",
       "\n",
       "[1470 rows x 11 columns]"
      ]
     },
     "execution_count": 6,
     "metadata": {},
     "output_type": "execute_result"
    }
   ],
   "source": [
    "drop_columns = ['name', 'source_url']\n",
    "cars.drop(columns=drop_columns)"
   ]
  },
  {
   "attachments": {},
   "cell_type": "markdown",
   "metadata": {},
   "source": [
    "### Data integration"
   ]
  },
  {
   "attachments": {},
   "cell_type": "markdown",
   "metadata": {},
   "source": [
    "### Data cleaning (remove missing value: None, NA; fill missing value using source url)"
   ]
  },
  {
   "cell_type": "code",
   "execution_count": 13,
   "metadata": {},
   "outputs": [
    {
     "data": {
      "text/plain": [
       "ranger      56\n",
       "fortuner    54\n",
       "khác        49\n",
       "vios        42\n",
       "accent      41\n",
       "            ..\n",
       "livina       1\n",
       "prado        1\n",
       "taycan       1\n",
       "bentayga     1\n",
       "aveo         1\n",
       "Name: model, Length: 153, dtype: int64"
      ]
     },
     "execution_count": 13,
     "metadata": {},
     "output_type": "execute_result"
    }
   ],
   "source": [
    "cars.model = cars.model.apply(lambda x: x.lower().strip())\n",
    "cars.model.value_counts()"
   ]
  },
  {
   "cell_type": "code",
   "execution_count": 16,
   "metadata": {},
   "outputs": [
    {
     "data": {
      "text/plain": [
       "suv          641\n",
       "sedan        480\n",
       "pickup       102\n",
       "van          102\n",
       "hatchback     95\n",
       "coupe          1\n",
       "Name: type, dtype: int64"
      ]
     },
     "execution_count": 16,
     "metadata": {},
     "output_type": "execute_result"
    }
   ],
   "source": [
    "cars.type = cars.type.apply(lambda x: x.lower().strip())\n",
    "cars.type.replace({\n",
    "    'none': pd.NA\n",
    "}, inplace=True)\n",
    "cars.type.value_counts()"
   ]
  },
  {
   "attachments": {},
   "cell_type": "markdown",
   "metadata": {},
   "source": [
    "https://www.kaggle.com/code/vbmokin/used-cars-price-prediction-by-15-models"
   ]
  },
  {
   "cell_type": "code",
   "execution_count": 18,
   "metadata": {},
   "outputs": [
    {
     "data": {
      "text/plain": [
       "0         389\n",
       "1          41\n",
       "50000      29\n",
       "60000      21\n",
       "78000      21\n",
       "         ... \n",
       "18888       1\n",
       "36500       1\n",
       "1900        1\n",
       "104000      1\n",
       "6600        1\n",
       "Name: km_driven, Length: 265, dtype: int64"
      ]
     },
     "execution_count": 18,
     "metadata": {},
     "output_type": "execute_result"
    }
   ],
   "source": [
    "cars.km_driven.value_counts()\n",
    "# drop outliers: km_driven = 0, 1"
   ]
  },
  {
   "cell_type": "code",
   "execution_count": 21,
   "metadata": {},
   "outputs": [
    {
     "data": {
      "text/plain": [
       "Trắng         472\n",
       "Đen           268\n",
       "Đỏ            216\n",
       "Bạc           138\n",
       "Khác           92\n",
       "Xanh dương     76\n",
       "Xám            71\n",
       "Nâu            42\n",
       "Vàng           39\n",
       "Cam            38\n",
       "Xanh lá        10\n",
       "None            8\n",
       "Name: external_color, dtype: int64"
      ]
     },
     "execution_count": 21,
     "metadata": {},
     "output_type": "execute_result"
    }
   ],
   "source": [
    "cars.external_color.value_counts()\n",
    "# drop none, khác"
   ]
  },
  {
   "cell_type": "code",
   "execution_count": 23,
   "metadata": {},
   "outputs": [
    {
     "data": {
      "text/plain": [
       "5       834\n",
       "7       429\n",
       "4        90\n",
       "8        55\n",
       "16       20\n",
       "6        17\n",
       "2         9\n",
       "0         9\n",
       "9         4\n",
       "None      2\n",
       "10        1\n",
       "Name: seats, dtype: int64"
      ]
     },
     "execution_count": 23,
     "metadata": {},
     "output_type": "execute_result"
    }
   ],
   "source": [
    "cars.seats.value_counts()\n",
    "# drop none, 0 or use source url to lookup data"
   ]
  },
  {
   "cell_type": "code",
   "execution_count": 25,
   "metadata": {},
   "outputs": [
    {
     "data": {
      "text/plain": [
       "gasoline    1143\n",
       "diesel       293\n",
       "electric      10\n",
       "hybrid         9\n",
       "NONE           7\n",
       "0              6\n",
       "None           2\n",
       "Name: fuels, dtype: int64"
      ]
     },
     "execution_count": 25,
     "metadata": {},
     "output_type": "execute_result"
    }
   ],
   "source": [
    "cars.fuels.value_counts()\n",
    "# drop NONE, 0, None or use source url to lookup data"
   ]
  },
  {
   "cell_type": "code",
   "execution_count": 27,
   "metadata": {},
   "outputs": [
    {
     "data": {
      "text/plain": [
       "automatic    1225\n",
       "manual        229\n",
       "None           10\n",
       "0               6\n",
       "Name: transmission, dtype: int64"
      ]
     },
     "execution_count": 27,
     "metadata": {},
     "output_type": "execute_result"
    }
   ],
   "source": [
    "cars.transmission.value_counts()\n",
    "# drop None, 0 or use source url to lookup date"
   ]
  },
  {
   "cell_type": "code",
   "execution_count": 29,
   "metadata": {},
   "outputs": [
    {
     "data": {
      "text/plain": [
       "None          20\n",
       "2499000000    17\n",
       "595000000     15\n",
       "1929000000    12\n",
       "639000000     12\n",
       "              ..\n",
       "38000000       1\n",
       "747000000      1\n",
       "1099900000     1\n",
       "1459000000     1\n",
       "349000000      1\n",
       "Name: price, Length: 674, dtype: int64"
      ]
     },
     "execution_count": 29,
     "metadata": {},
     "output_type": "execute_result"
    }
   ],
   "source": [
    "cars.price.value_counts()\n",
    "# drop outliers"
   ]
  },
  {
   "cell_type": "code",
   "execution_count": 31,
   "metadata": {},
   "outputs": [
    {
     "data": {
      "text/plain": [
       "2022    383\n",
       "2019    164\n",
       "2021    145\n",
       "2023    143\n",
       "2020    116\n",
       "2018     97\n",
       "2017     82\n",
       "2016     73\n",
       "2015     56\n",
       "2014     34\n",
       "2007     23\n",
       "2010     22\n",
       "2013     19\n",
       "2008     19\n",
       "2009     18\n",
       "2011     15\n",
       "2012     13\n",
       "None     10\n",
       "2004      9\n",
       "2003      7\n",
       "2005      7\n",
       "2006      5\n",
       "2001      3\n",
       "2002      2\n",
       "2000      2\n",
       "2024      1\n",
       "1999      1\n",
       "1995      1\n",
       "Name: year, dtype: int64"
      ]
     },
     "execution_count": 31,
     "metadata": {},
     "output_type": "execute_result"
    }
   ],
   "source": [
    "cars.year.value_counts()\n",
    "# drop None"
   ]
  },
  {
   "attachments": {},
   "cell_type": "markdown",
   "metadata": {},
   "source": [
    "### Data transformation (from categorical to numerical)"
   ]
  }
 ],
 "metadata": {
  "kernelspec": {
   "display_name": "sandbox",
   "language": "python",
   "name": "python3"
  },
  "language_info": {
   "codemirror_mode": {
    "name": "ipython",
    "version": 3
   },
   "file_extension": ".py",
   "mimetype": "text/x-python",
   "name": "python",
   "nbconvert_exporter": "python",
   "pygments_lexer": "ipython3",
   "version": "3.11.0"
  },
  "orig_nbformat": 4
 },
 "nbformat": 4,
 "nbformat_minor": 2
}
