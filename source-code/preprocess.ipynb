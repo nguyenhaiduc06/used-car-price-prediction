{
 "cells": [
  {
   "cell_type": "code",
   "execution_count": 34,
   "metadata": {},
   "outputs": [
    {
     "name": "stdout",
     "output_type": "stream",
     "text": [
      "<class 'pandas.core.frame.DataFrame'>\n",
      "Int64Index: 28955 entries, 0 to 28954\n",
      "Data columns (total 16 columns):\n",
      " #   Column           Non-Null Count  Dtype  \n",
      "---  ------           --------------  -----  \n",
      " 0   name             28955 non-null  object \n",
      " 1   brand            28955 non-null  object \n",
      " 2   source_url       28955 non-null  object \n",
      " 3   type             28955 non-null  object \n",
      " 4   origin           28955 non-null  object \n",
      " 5   km_driven        28955 non-null  int64  \n",
      " 6   external_color   28955 non-null  object \n",
      " 7   seats            28955 non-null  int64  \n",
      " 8   engine_capacity  28955 non-null  float64\n",
      " 9   fuels            28955 non-null  object \n",
      " 10  transmission     28955 non-null  object \n",
      " 11  wheel_drive      28955 non-null  object \n",
      " 12  price            28955 non-null  int64  \n",
      " 13  year             28955 non-null  int64  \n",
      " 14  model            28955 non-null  object \n",
      " 15  internal_color   28955 non-null  object \n",
      "dtypes: float64(1), int64(4), object(11)\n",
      "memory usage: 3.8+ MB\n"
     ]
    }
   ],
   "source": [
    "import pandas as pd\n",
    "df = pd.read_csv('./data.csv', index_col=0)\n",
    "df.info()"
   ]
  },
  {
   "cell_type": "code",
   "execution_count": 38,
   "metadata": {},
   "outputs": [
    {
     "data": {
      "text/plain": [
       "5     15761\n",
       "4     12872\n",
       "2       215\n",
       "3        77\n",
       "6        20\n",
       "45        2\n",
       "54        2\n",
       "7         1\n",
       "50        1\n",
       "1         1\n",
       "56        1\n",
       "40        1\n",
       "8         1\n",
       "Name: seats, dtype: int64"
      ]
     },
     "execution_count": 38,
     "metadata": {},
     "output_type": "execute_result"
    }
   ],
   "source": [
    "df.seats.value_counts()"
   ]
  }
 ],
 "metadata": {
  "kernelspec": {
   "display_name": "Python 3",
   "language": "python",
   "name": "python3"
  },
  "language_info": {
   "codemirror_mode": {
    "name": "ipython",
    "version": 3
   },
   "file_extension": ".py",
   "mimetype": "text/x-python",
   "name": "python",
   "nbconvert_exporter": "python",
   "pygments_lexer": "ipython3",
   "version": "3.11.0"
  },
  "orig_nbformat": 4
 },
 "nbformat": 4,
 "nbformat_minor": 2
}
