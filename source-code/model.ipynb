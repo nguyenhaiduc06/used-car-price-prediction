{
 "cells": [
  {
   "cell_type": "code",
   "execution_count": 30,
   "metadata": {},
   "outputs": [],
   "source": [
    "import pandas as pd\n",
    "import matplotlib.pyplot as plt\n",
    "import seaborn as sns\n",
    "from sklearn.preprocessing import LabelEncoder, StandardScaler\n",
    "from sklearn.linear_model import LinearRegression\n",
    "from sklearn.tree import DecisionTreeRegressor\n",
    "from sklearn.ensemble import RandomForestRegressor\n",
    "from sklearn.model_selection import cross_validate, KFold, GridSearchCV\n",
    "df = pd.read_csv('./data.csv')"
   ]
  },
  {
   "cell_type": "code",
   "execution_count": 31,
   "metadata": {},
   "outputs": [],
   "source": [
    "drop = df[ df.internal_color.isin(['-', 'màu khác', 'nhiều màu']) ].index\n",
    "df.drop(drop, inplace=True)"
   ]
  },
  {
   "cell_type": "code",
   "execution_count": 32,
   "metadata": {},
   "outputs": [],
   "source": [
    "drop = df[ df.external_color.isin(['-', 'màu khác', 'nhiều màu']) ].index\n",
    "df.drop(drop, inplace=True)"
   ]
  },
  {
   "cell_type": "code",
   "execution_count": 33,
   "metadata": {},
   "outputs": [],
   "source": [
    "type = df['type']\n",
    "type = pd.get_dummies(type, drop_first=True)"
   ]
  },
  {
   "cell_type": "code",
   "execution_count": 34,
   "metadata": {},
   "outputs": [],
   "source": [
    "transmission = df['transmission']\n",
    "transmission = pd.get_dummies(transmission,drop_first=True)"
   ]
  },
  {
   "cell_type": "code",
   "execution_count": 35,
   "metadata": {},
   "outputs": [],
   "source": [
    "fuels = df['fuels']\n",
    "fuels = pd.get_dummies(fuels,drop_first=True)"
   ]
  },
  {
   "cell_type": "code",
   "execution_count": 36,
   "metadata": {},
   "outputs": [],
   "source": [
    "origin = df['origin']\n",
    "origin = pd.get_dummies(origin,drop_first=True)"
   ]
  },
  {
   "cell_type": "code",
   "execution_count": 37,
   "metadata": {},
   "outputs": [],
   "source": [
    "e_color = df['external_color']\n",
    "e_color = pd.get_dummies(e_color, drop_first=True)"
   ]
  },
  {
   "cell_type": "code",
   "execution_count": 38,
   "metadata": {},
   "outputs": [],
   "source": [
    "i_color = df['internal_color']\n",
    "i_color = pd.get_dummies(i_color, drop_first=True)"
   ]
  },
  {
   "cell_type": "code",
   "execution_count": 39,
   "metadata": {},
   "outputs": [],
   "source": [
    "wheel_drive = df['wheel_drive']\n",
    "wheel_drive = pd.get_dummies(wheel_drive, drop_first=True)"
   ]
  },
  {
   "cell_type": "code",
   "execution_count": 40,
   "metadata": {},
   "outputs": [],
   "source": [
    "le = LabelEncoder()\n",
    "df[\"brand\"] = le.fit_transform(df[\"brand\"])\n",
    "df['model']= le.fit_transform(df['model'])"
   ]
  },
  {
   "cell_type": "code",
   "execution_count": 41,
   "metadata": {},
   "outputs": [],
   "source": [
    "df = pd.concat([df, type, transmission, fuels, origin, e_color, i_color, wheel_drive], axis=1)"
   ]
  },
  {
   "cell_type": "code",
   "execution_count": 42,
   "metadata": {},
   "outputs": [],
   "source": [
    "drop = ['Unnamed: 0', 'type', 'transmission', 'origin', 'fuels', 'external_color', 'internal_color', 'wheel_drive', 'name', 'source_url']\n",
    "df = df.drop(columns=drop)"
   ]
  },
  {
   "cell_type": "code",
   "execution_count": 43,
   "metadata": {},
   "outputs": [],
   "source": [
    "X = df.drop([\"price\"], axis=1)\n",
    "y = df[\"price\"]"
   ]
  },
  {
   "cell_type": "code",
   "execution_count": 45,
   "metadata": {},
   "outputs": [
    {
     "data": {
      "text/plain": [
       "fit_time          0.056398\n",
       "score_time        0.004449\n",
       "test_score    -1560.702432\n",
       "train_score   -1505.867577\n",
       "dtype: float64"
      ]
     },
     "execution_count": 45,
     "metadata": {},
     "output_type": "execute_result"
    }
   ],
   "source": [
    "lr = LinearRegression()\n",
    "\n",
    "lr_scores = cross_validate(lr, X, y, cv=5, scoring='neg_root_mean_squared_error', return_train_score=True)\n",
    "df_lr_scores = pd.DataFrame(lr_scores)\n",
    "df_lr_scores.mean()"
   ]
  },
  {
   "cell_type": "code",
   "execution_count": 51,
   "metadata": {},
   "outputs": [
    {
     "name": "stdout",
     "output_type": "stream",
     "text": [
      "Best Score: -1131.8591698289752\n",
      "Best Hyperparameters: {'max_depth': 18, 'min_samples_leaf': 10}\n"
     ]
    }
   ],
   "source": [
    "model = DecisionTreeRegressor()\n",
    "cv = KFold(n_splits=5)\n",
    "space = dict()\n",
    "space['max_depth'] = [15, 16, 17, 18, 19]\n",
    "space['min_samples_leaf'] = [5, 10, 15]\n",
    "search = GridSearchCV(model, space, scoring='neg_root_mean_squared_error', n_jobs=-1, cv=cv)\n",
    "result = search.fit(X, y)\n",
    "print('Best Score: %s' % result.best_score_)\n",
    "print('Best Hyperparameters: %s' % result.best_params_)"
   ]
  },
  {
   "cell_type": "code",
   "execution_count": 52,
   "metadata": {},
   "outputs": [
    {
     "data": {
      "text/plain": [
       "fit_time          0.077689\n",
       "score_time        0.003705\n",
       "test_score    -1158.073959\n",
       "train_score    -470.108199\n",
       "dtype: float64"
      ]
     },
     "execution_count": 52,
     "metadata": {},
     "output_type": "execute_result"
    }
   ],
   "source": [
    "dtr = DecisionTreeRegressor(max_depth=18, min_samples_leaf=10)\n",
    "dtr_scores = cross_validate(dtr, X, y, cv=5, scoring='neg_root_mean_squared_error', return_train_score=True)\n",
    "df_dtr_scores = pd.DataFrame(dtr_scores)\n",
    "df_dtr_scores.mean()"
   ]
  },
  {
   "cell_type": "code",
   "execution_count": 48,
   "metadata": {},
   "outputs": [
    {
     "name": "stdout",
     "output_type": "stream",
     "text": [
      "Best Score: -1050.3957125435911\n",
      "Best Hyperparameters: {'n_estimators': 120}\n"
     ]
    }
   ],
   "source": [
    "model = RandomForestRegressor()\n",
    "cv = KFold(n_splits=5)\n",
    "space = dict()\n",
    "space['n_estimators'] = [110, 120, 130]\n",
    "search = GridSearchCV(model, space, scoring='neg_root_mean_squared_error', n_jobs=-1, cv=cv)\n",
    "result = search.fit(X, y)\n",
    "print('Best Score: %s' % result.best_score_)\n",
    "print('Best Hyperparameters: %s' % result.best_params_)"
   ]
  },
  {
   "cell_type": "code",
   "execution_count": 49,
   "metadata": {},
   "outputs": [
    {
     "data": {
      "text/plain": [
       "fit_time          7.622758\n",
       "score_time        0.104573\n",
       "test_score    -1064.256013\n",
       "train_score    -207.887157\n",
       "dtype: float64"
      ]
     },
     "execution_count": 49,
     "metadata": {},
     "output_type": "execute_result"
    }
   ],
   "source": [
    "rfr = RandomForestRegressor(n_estimators=120)\n",
    "rfr_scores = cross_validate(rfr, X, y, cv=5, scoring='neg_root_mean_squared_error', return_train_score=True)\n",
    "df_rfr_scores = pd.DataFrame(rfr_scores)\n",
    "df_rfr_scores.mean()"
   ]
  }
 ],
 "metadata": {
  "kernelspec": {
   "display_name": "sandbox",
   "language": "python",
   "name": "python3"
  },
  "language_info": {
   "codemirror_mode": {
    "name": "ipython",
    "version": 3
   },
   "file_extension": ".py",
   "mimetype": "text/x-python",
   "name": "python",
   "nbconvert_exporter": "python",
   "pygments_lexer": "ipython3",
   "version": "3.11.0"
  },
  "orig_nbformat": 4
 },
 "nbformat": 4,
 "nbformat_minor": 2
}
