{
 "cells": [
  {
   "attachments": {},
   "cell_type": "markdown",
   "metadata": {},
   "source": [
    "# Series"
   ]
  },
  {
   "cell_type": "code",
   "execution_count": 6,
   "metadata": {},
   "outputs": [
    {
     "data": {
      "text/html": [
       "<div>\n",
       "<style scoped>\n",
       "    .dataframe tbody tr th:only-of-type {\n",
       "        vertical-align: middle;\n",
       "    }\n",
       "\n",
       "    .dataframe tbody tr th {\n",
       "        vertical-align: top;\n",
       "    }\n",
       "\n",
       "    .dataframe thead th {\n",
       "        text-align: right;\n",
       "    }\n",
       "</style>\n",
       "<table border=\"1\" class=\"dataframe\">\n",
       "  <thead>\n",
       "    <tr style=\"text-align: right;\">\n",
       "      <th></th>\n",
       "      <th>Unnamed: 0</th>\n",
       "      <th>link</th>\n",
       "      <th>car_type</th>\n",
       "    </tr>\n",
       "  </thead>\n",
       "  <tbody>\n",
       "    <tr>\n",
       "      <th>0</th>\n",
       "      <td>0</td>\n",
       "      <td>/mua-ban-xe/mercedes--benz-class-27548.html</td>\n",
       "      <td>Sedan</td>\n",
       "    </tr>\n",
       "    <tr>\n",
       "      <th>1</th>\n",
       "      <td>1</td>\n",
       "      <td>/mua-ban-xe/mercedes--benz-class-27547.html</td>\n",
       "      <td>Sedan</td>\n",
       "    </tr>\n",
       "    <tr>\n",
       "      <th>2</th>\n",
       "      <td>2</td>\n",
       "      <td>/mua-ban-xe/kia-new-sorento-22at-2014-26003.html</td>\n",
       "      <td>SUV 7 chỗ</td>\n",
       "    </tr>\n",
       "    <tr>\n",
       "      <th>3</th>\n",
       "      <td>3</td>\n",
       "      <td>/mua-ban-xe/mercedes--benz-s400-30at-2016-2600...</td>\n",
       "      <td>Sedan</td>\n",
       "    </tr>\n",
       "    <tr>\n",
       "      <th>4</th>\n",
       "      <td>4</td>\n",
       "      <td>/mua-ban-xe/lexus-rx350-35at-2011-26000.html</td>\n",
       "      <td>SUV 5 chỗ</td>\n",
       "    </tr>\n",
       "    <tr>\n",
       "      <th>5</th>\n",
       "      <td>5</td>\n",
       "      <td>/mua-ban-xe/mazda-2s-15at-2012458-25998.html</td>\n",
       "      <td>Sedan</td>\n",
       "    </tr>\n",
       "    <tr>\n",
       "      <th>6</th>\n",
       "      <td>6</td>\n",
       "      <td>/mua-ban-xe/kia-morning-10at-2011-25997.html</td>\n",
       "      <td>Hatchback</td>\n",
       "    </tr>\n",
       "    <tr>\n",
       "      <th>7</th>\n",
       "      <td>7</td>\n",
       "      <td>/mua-ban-xe/mercedes-benz-gla-45-amg-20at-2016...</td>\n",
       "      <td>Hatchback</td>\n",
       "    </tr>\n",
       "    <tr>\n",
       "      <th>8</th>\n",
       "      <td>8</td>\n",
       "      <td>/mua-ban-xe/chevrolet-captiva-24at-2007-25991....</td>\n",
       "      <td>SUV 7 chỗ</td>\n",
       "    </tr>\n",
       "    <tr>\n",
       "      <th>9</th>\n",
       "      <td>9</td>\n",
       "      <td>/mua-ban-xe/ford-ranger-xls-22mt-2014-25989.html</td>\n",
       "      <td>Bán tải</td>\n",
       "    </tr>\n",
       "  </tbody>\n",
       "</table>\n",
       "</div>"
      ],
      "text/plain": [
       "   Unnamed: 0                                               link   car_type\n",
       "0           0        /mua-ban-xe/mercedes--benz-class-27548.html      Sedan\n",
       "1           1        /mua-ban-xe/mercedes--benz-class-27547.html      Sedan\n",
       "2           2   /mua-ban-xe/kia-new-sorento-22at-2014-26003.html  SUV 7 chỗ\n",
       "3           3  /mua-ban-xe/mercedes--benz-s400-30at-2016-2600...      Sedan\n",
       "4           4       /mua-ban-xe/lexus-rx350-35at-2011-26000.html  SUV 5 chỗ\n",
       "5           5       /mua-ban-xe/mazda-2s-15at-2012458-25998.html      Sedan\n",
       "6           6       /mua-ban-xe/kia-morning-10at-2011-25997.html  Hatchback\n",
       "7           7  /mua-ban-xe/mercedes-benz-gla-45-amg-20at-2016...  Hatchback\n",
       "8           8  /mua-ban-xe/chevrolet-captiva-24at-2007-25991....  SUV 7 chỗ\n",
       "9           9   /mua-ban-xe/ford-ranger-xls-22mt-2014-25989.html    Bán tải"
      ]
     },
     "execution_count": 6,
     "metadata": {},
     "output_type": "execute_result"
    }
   ],
   "source": [
    "import pandas as pd\n",
    "data = {\n",
    "  \"calories\": [420, 380, 390],\n",
    "  \"duration\": [50, 40, 45]\n",
    "}\n",
    "\n",
    "pd.read_csv(\"../data/san_xe_hot/links.csv\")"
   ]
  }
 ],
 "metadata": {
  "kernelspec": {
   "display_name": "base",
   "language": "python",
   "name": "python3"
  },
  "language_info": {
   "codemirror_mode": {
    "name": "ipython",
    "version": 3
   },
   "file_extension": ".py",
   "mimetype": "text/x-python",
   "name": "python",
   "nbconvert_exporter": "python",
   "pygments_lexer": "ipython3",
   "version": "3.9.16"
  },
  "orig_nbformat": 4
 },
 "nbformat": 4,
 "nbformat_minor": 2
}
